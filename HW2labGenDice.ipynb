{
 "cells": [
  {
   "attachments": {},
   "cell_type": "markdown",
   "metadata": {},
   "source": [
    "# Игральные кости\n",
    "Создать функцию, которая вернет кортеж результат подбрасывания N кубиков в зависимости от входящих параметров:\n",
    "- количество кубиков\n",
    "- количество граней у кубика (по умолчанию = 6)\n",
    "- значения на гранях кубика (по умолчанию: 1,2,3,4,5,6)\n",
    "- Помним:\n",
    "  - что необходимо правильно оформлять функции, название, аннотация типов, описание, название параметров и тп.\n",
    "  - проверка входящих параметров\n",
    "  - подумать какие параметры должны быть обязательные какие нет и какие значения по умолчанию\n",
    "- Проверка:\n",
    "  - показать использование этой функции на различных примерах с различными параметрами\n",
    "  - в том числе с разным количеством граней у кубика\n"
   ]
  },
  {
   "cell_type": "code",
   "execution_count": 1,
   "metadata": {},
   "outputs": [
    {
     "name": "stdout",
     "output_type": "stream",
     "text": [
      "('1',)\n"
     ]
    }
   ],
   "source": [
    "# Метод isdigit() возвращает True, если все символы в строке являются цифрами.\n",
    "# Функция split сканирует всю строку и разделяет ее в случае нахождения разделителя.\n",
    "# tuple - Кортеж\n",
    "\n",
    "import random\n",
    "\n",
    "def dice(count:str, countGran:str = \"6\", valueGran:str=\"1,2,3,4,5,6\") -> tuple:\n",
    "    \"\"\"Функция, которая вернет кортеж результат подбрасывания N кубиков в зависимости от входящих параметров\"\"\"\n",
    "    assert count.isdigit(), \"Количество кубиков должно быть 1 и более, число должно быть целым\"\n",
    "    assert int(count) >= 1, \"Количество кубиков должно быть 1 и более\"\n",
    "    assert countGran.isdigit(), \"Количество граней кубиков должно быть больше нуля, число должно быть целым\"\n",
    "    assert int(countGran) >= 1, \"Количество граней кубиков должно быть больше нуля\"\n",
    "    value = valueGran.split(\",\")\n",
    "    assert len(value) == int(countGran), \"Количество элементов должно быть равно Количеству граней\"\n",
    "    answer = tuple(random.choices(value, k = int(count)))\n",
    "    print(answer)\n",
    "\n",
    "\n",
    "сount = str(input('Введите количество кубиков - '))\n",
    "сountGran = str(input('Введите Количество граней у кубика - '))\n",
    "valueGran = str(input('Введите значение граней у кубика (через запятую без пробела) - '))\n",
    "if сountGran == \"\":\n",
    "    if valueGran == \"\":\n",
    "        dice(count=сount)\n",
    "    else:\n",
    "        dice(count=сount, valueGran=valueGran)\n",
    "else:\n",
    "    \n",
    "    if valueGran == \"\":\n",
    "        dice(count=сount, countGran=сountGran)\n",
    "    else:\n",
    "        dice(count=сount, countGran=сountGran, valueGran=valueGran)"
   ]
  }
 ],
 "metadata": {
  "kernelspec": {
   "display_name": "Python 3",
   "language": "python",
   "name": "python3"
  },
  "language_info": {
   "codemirror_mode": {
    "name": "ipython",
    "version": 3
   },
   "file_extension": ".py",
   "mimetype": "text/x-python",
   "name": "python",
   "nbconvert_exporter": "python",
   "pygments_lexer": "ipython3",
   "version": "3.11.2"
  },
  "orig_nbformat": 4
 },
 "nbformat": 4,
 "nbformat_minor": 2
}
